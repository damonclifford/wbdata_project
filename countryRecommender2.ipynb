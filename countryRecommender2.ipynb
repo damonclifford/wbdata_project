{
 "cells": [
  {
   "cell_type": "markdown",
   "metadata": {},
   "source": [
    "# Part 2: Country recommender using World Bank data in Python\n",
    "Janos Perge"
   ]
  },
  {
   "cell_type": "markdown",
   "metadata": {},
   "source": [
    "###Approach:\n",
    "\n",
    "For each country, calculate a Country Preference Score, i.e. a weighted average of selected indicators.\n",
    "  \n",
    "This means:  \n",
    "1) select country indicators   \n",
    "2) normalize indicators   \n",
    "3) assign importance scores for each indicator  \n",
    "4) calculate score*  \n",
    "5) deliver the top 30 countries with the highest score\n",
    "\n",
    "*Country Preference Score = (indicator1 x score1 + indicator2 x score2 .... indicatorEnd x scoreEnd)/ number of indicators\n",
    "\n",
    "As indicator values were occasionally missing in certain years, I calculated the average value over the past five years.\n"
   ]
  },
  {
   "cell_type": "markdown",
   "metadata": {},
   "source": [
    "## Import Python libraries"
   ]
  },
  {
   "cell_type": "code",
   "execution_count": 1,
   "metadata": {
    "collapsed": true
   },
   "outputs": [],
   "source": [
    "%matplotlib inline\n",
    "\n",
    "import wbdata\n",
    "import pandas as pd\n",
    "import numpy as np\n",
    "import datetime\n",
    "import matplotlib.pyplot as plt\n",
    "import plotly.plotly as py"
   ]
  },
  {
   "cell_type": "markdown",
   "metadata": {
    "collapsed": true
   },
   "source": [
    "## Select relevant indicators\n",
    "\n",
    "I explored indicators using methods such as:\n",
    "wbdata.get_source(), \n",
    "wbdata.get_indicator(source=2), or \n",
    "wbdata.search_indicators(\"gdp per capita, ppp\")\n",
    "\n",
    "Here are the results:"
   ]
  },
  {
   "cell_type": "code",
   "execution_count": 2,
   "metadata": {
    "collapsed": false
   },
   "outputs": [],
   "source": [
    "# INPUT PARAMETERS\n",
    "\n",
    "indicators     = {'SP.DYN.LE00.IN': 'Life expectancy',\n",
    "                  'SH.DTH.COMM.ZS': 'dye from disease',\n",
    "                  'SH.DTH.INJR.ZS': 'dye from injury',                \n",
    "                  'SP.DYN.CDRT.IN': 'crude death rate/1000pers',                  \n",
    "                  'EN.ATM.CO2E.PC': 'CO2 emission/capita',\n",
    "                  'NY.GDP.PCAP.PP.CD': 'GDP',\n",
    "                  'SL.UEM.TERT.ZS': 'unemployment tertiary',\n",
    "                  'SL.UEM.SECO.ZS': 'unemployment secondary',\n",
    "                  'SL.EMP.TOTL.SP.NE.ZS': 'employed ratio (+15yo)'}\n",
    "\n",
    "subjPreference = {'Life expectancy': 1,\n",
    "                  'dye from disease': -1,\n",
    "                  'dye from injury': -1,\n",
    "                  'crude death rate/1000pers':-.6,\n",
    "                  'CO2 emission/capita': -.4,\n",
    "\n",
    "                  'GDP': .9,\n",
    "                  'unemployment tertiary': -.9,\n",
    "                  'unemployment secondary': -.5,\n",
    "                  'employed ratio (+15yo)': -.3}\n",
    "\n",
    "yearLow        = 2010\n",
    "yearHigh       = 2015\n"
   ]
  },
  {
   "cell_type": "markdown",
   "metadata": {},
   "source": [
    "## Obtain country codes and names"
   ]
  },
  {
   "cell_type": "code",
   "execution_count": 3,
   "metadata": {
    "collapsed": false
   },
   "outputs": [
    {
     "data": {
      "text/html": [
       "<div>\n",
       "<table border=\"1\" class=\"dataframe\">\n",
       "  <thead>\n",
       "    <tr style=\"text-align: right;\">\n",
       "      <th></th>\n",
       "      <th>id</th>\n",
       "    </tr>\n",
       "    <tr>\n",
       "      <th>country</th>\n",
       "      <th></th>\n",
       "    </tr>\n",
       "  </thead>\n",
       "  <tbody>\n",
       "    <tr>\n",
       "      <th>Aruba</th>\n",
       "      <td>ABW</td>\n",
       "    </tr>\n",
       "    <tr>\n",
       "      <th>Afghanistan</th>\n",
       "      <td>AFG</td>\n",
       "    </tr>\n",
       "    <tr>\n",
       "      <th>Angola</th>\n",
       "      <td>AGO</td>\n",
       "    </tr>\n",
       "    <tr>\n",
       "      <th>Albania</th>\n",
       "      <td>ALB</td>\n",
       "    </tr>\n",
       "    <tr>\n",
       "      <th>Andorra</th>\n",
       "      <td>AND</td>\n",
       "    </tr>\n",
       "  </tbody>\n",
       "</table>\n",
       "</div>"
      ],
      "text/plain": [
       "              id\n",
       "country         \n",
       "Aruba        ABW\n",
       "Afghanistan  AFG\n",
       "Angola       AGO\n",
       "Albania      ALB\n",
       "Andorra      AND"
      ]
     },
     "execution_count": 3,
     "metadata": {},
     "output_type": "execute_result"
    }
   ],
   "source": [
    "#obtain country codes and regional metadata:\n",
    "countryInfo = wbdata.get_country(country_id=None, display=False)\n",
    "dfInfo = pd.DataFrame(countryInfo)\n",
    "\n",
    "#remove aggregate countries:\n",
    "ccodes = [];\n",
    "cnames = [];\n",
    "for i in range(len(dfInfo)):\n",
    "    if str(dfInfo['region'][i]['value'])  != 'Aggregates':\n",
    "        ccodes.append(dfInfo['id'][i])\n",
    "        cnames.append(dfInfo['name'][i])\n",
    "dfM = pd.DataFrame(ccodes, index=cnames, columns=['id'])\n",
    "dfM.index.name = 'country'\n",
    "dfM.head()"
   ]
  },
  {
   "cell_type": "code",
   "execution_count": 4,
   "metadata": {
    "collapsed": false
   },
   "outputs": [
    {
     "data": {
      "text/html": [
       "<div>\n",
       "<table border=\"1\" class=\"dataframe\">\n",
       "  <thead>\n",
       "    <tr style=\"text-align: right;\">\n",
       "      <th></th>\n",
       "      <th>id</th>\n",
       "      <th>CO2 emission/capita</th>\n",
       "      <th>GDP</th>\n",
       "      <th>unemployment secondary</th>\n",
       "      <th>crude death rate/1000pers</th>\n",
       "      <th>unemployment tertiary</th>\n",
       "      <th>dye from injury</th>\n",
       "      <th>dye from disease</th>\n",
       "      <th>employed ratio (+15yo)</th>\n",
       "      <th>Life expectancy</th>\n",
       "    </tr>\n",
       "    <tr>\n",
       "      <th>country</th>\n",
       "      <th></th>\n",
       "      <th></th>\n",
       "      <th></th>\n",
       "      <th></th>\n",
       "      <th></th>\n",
       "      <th></th>\n",
       "      <th></th>\n",
       "      <th></th>\n",
       "      <th></th>\n",
       "      <th></th>\n",
       "    </tr>\n",
       "  </thead>\n",
       "  <tbody>\n",
       "    <tr>\n",
       "      <th>Aruba</th>\n",
       "      <td>ABW</td>\n",
       "      <td>24.052557</td>\n",
       "      <td>36015.070460</td>\n",
       "      <td>NaN</td>\n",
       "      <td>8.13175</td>\n",
       "      <td>NaN</td>\n",
       "      <td>NaN</td>\n",
       "      <td>NaN</td>\n",
       "      <td>NaN</td>\n",
       "      <td>75.142835</td>\n",
       "    </tr>\n",
       "    <tr>\n",
       "      <th>Afghanistan</th>\n",
       "      <td>AFG</td>\n",
       "      <td>0.364099</td>\n",
       "      <td>1831.702129</td>\n",
       "      <td>NaN</td>\n",
       "      <td>8.24975</td>\n",
       "      <td>NaN</td>\n",
       "      <td>17.4</td>\n",
       "      <td>46.0</td>\n",
       "      <td>NaN</td>\n",
       "      <td>60.276500</td>\n",
       "    </tr>\n",
       "    <tr>\n",
       "      <th>Angola</th>\n",
       "      <td>AGO</td>\n",
       "      <td>1.377831</td>\n",
       "      <td>6790.368992</td>\n",
       "      <td>NaN</td>\n",
       "      <td>14.38325</td>\n",
       "      <td>NaN</td>\n",
       "      <td>9.5</td>\n",
       "      <td>66.4</td>\n",
       "      <td>NaN</td>\n",
       "      <td>51.260915</td>\n",
       "    </tr>\n",
       "    <tr>\n",
       "      <th>Albania</th>\n",
       "      <td>ALB</td>\n",
       "      <td>1.561335</td>\n",
       "      <td>9791.736557</td>\n",
       "      <td>NaN</td>\n",
       "      <td>6.75575</td>\n",
       "      <td>NaN</td>\n",
       "      <td>5.5</td>\n",
       "      <td>5.1</td>\n",
       "      <td>49.975</td>\n",
       "      <td>77.257360</td>\n",
       "    </tr>\n",
       "    <tr>\n",
       "      <th>Andorra</th>\n",
       "      <td>AND</td>\n",
       "      <td>6.046728</td>\n",
       "      <td>NaN</td>\n",
       "      <td>NaN</td>\n",
       "      <td>3.35000</td>\n",
       "      <td>NaN</td>\n",
       "      <td>NaN</td>\n",
       "      <td>NaN</td>\n",
       "      <td>NaN</td>\n",
       "      <td>NaN</td>\n",
       "    </tr>\n",
       "  </tbody>\n",
       "</table>\n",
       "</div>"
      ],
      "text/plain": [
       "              id  CO2 emission/capita           GDP  unemployment secondary  \\\n",
       "country                                                                       \n",
       "Aruba        ABW            24.052557  36015.070460                     NaN   \n",
       "Afghanistan  AFG             0.364099   1831.702129                     NaN   \n",
       "Angola       AGO             1.377831   6790.368992                     NaN   \n",
       "Albania      ALB             1.561335   9791.736557                     NaN   \n",
       "Andorra      AND             6.046728           NaN                     NaN   \n",
       "\n",
       "             crude death rate/1000pers  unemployment tertiary  \\\n",
       "country                                                         \n",
       "Aruba                          8.13175                    NaN   \n",
       "Afghanistan                    8.24975                    NaN   \n",
       "Angola                        14.38325                    NaN   \n",
       "Albania                        6.75575                    NaN   \n",
       "Andorra                        3.35000                    NaN   \n",
       "\n",
       "             dye from injury  dye from disease  employed ratio (+15yo)  \\\n",
       "country                                                                  \n",
       "Aruba                    NaN               NaN                     NaN   \n",
       "Afghanistan             17.4              46.0                     NaN   \n",
       "Angola                   9.5              66.4                     NaN   \n",
       "Albania                  5.5               5.1                  49.975   \n",
       "Andorra                  NaN               NaN                     NaN   \n",
       "\n",
       "             Life expectancy  \n",
       "country                       \n",
       "Aruba              75.142835  \n",
       "Afghanistan        60.276500  \n",
       "Angola             51.260915  \n",
       "Albania            77.257360  \n",
       "Andorra                  NaN  "
      ]
     },
     "execution_count": 4,
     "metadata": {},
     "output_type": "execute_result"
    }
   ],
   "source": [
    "# GIVEN THE LIST OF COUNTRY CODES, YEARS AND INDICATORS, ADD DATA COLUMNS TO dfM:\n",
    "#indicator format = {indicatorCode:indicatorLabel} \n",
    "data_date = (datetime.datetime(yearLow, 1, 1), datetime.datetime(yearHigh, 12, 1)) \n",
    "\n",
    "for measure, label in indicators.items():\n",
    "    df = wbdata.get_dataframe({measure: label}, country = ccodes, data_date=data_date, convert_date=False, keep_levels=False)\n",
    "    # average across the last five years of data (to also deal with missing values):\n",
    "    ind = df.groupby(level=0).mean()        \n",
    "    dfM[label] = ind\n",
    "\n",
    "dfM.head()"
   ]
  },
  {
   "cell_type": "code",
   "execution_count": 9,
   "metadata": {
    "collapsed": false
   },
   "outputs": [
    {
     "data": {
      "text/html": [
       "<div>\n",
       "<table border=\"1\" class=\"dataframe\">\n",
       "  <thead>\n",
       "    <tr style=\"text-align: right;\">\n",
       "      <th></th>\n",
       "      <th>id</th>\n",
       "      <th>CO2 emission/capita</th>\n",
       "      <th>GDP</th>\n",
       "      <th>unemployment secondary</th>\n",
       "      <th>crude death rate/1000pers</th>\n",
       "      <th>unemployment tertiary</th>\n",
       "      <th>dye from injury</th>\n",
       "      <th>dye from disease</th>\n",
       "      <th>employed ratio (+15yo)</th>\n",
       "      <th>Life expectancy</th>\n",
       "      <th>Preference Score</th>\n",
       "    </tr>\n",
       "    <tr>\n",
       "      <th>country</th>\n",
       "      <th></th>\n",
       "      <th></th>\n",
       "      <th></th>\n",
       "      <th></th>\n",
       "      <th></th>\n",
       "      <th></th>\n",
       "      <th></th>\n",
       "      <th></th>\n",
       "      <th></th>\n",
       "      <th></th>\n",
       "      <th></th>\n",
       "    </tr>\n",
       "  </thead>\n",
       "  <tbody>\n",
       "    <tr>\n",
       "      <th>Aruba</th>\n",
       "      <td>ABW</td>\n",
       "      <td>0.445101</td>\n",
       "      <td>0.261039</td>\n",
       "      <td>NaN</td>\n",
       "      <td>0.570596</td>\n",
       "      <td>NaN</td>\n",
       "      <td>NaN</td>\n",
       "      <td>NaN</td>\n",
       "      <td>NaN</td>\n",
       "      <td>0.783238</td>\n",
       "      <td>0.538571</td>\n",
       "    </tr>\n",
       "    <tr>\n",
       "      <th>Afghanistan</th>\n",
       "      <td>AFG</td>\n",
       "      <td>0.992076</td>\n",
       "      <td>0.008658</td>\n",
       "      <td>NaN</td>\n",
       "      <td>0.563433</td>\n",
       "      <td>NaN</td>\n",
       "      <td>0.683036</td>\n",
       "      <td>0.377095</td>\n",
       "      <td>NaN</td>\n",
       "      <td>0.394298</td>\n",
       "      <td>-0.802888</td>\n",
       "    </tr>\n",
       "    <tr>\n",
       "      <th>Angola</th>\n",
       "      <td>AGO</td>\n",
       "      <td>0.968669</td>\n",
       "      <td>0.045269</td>\n",
       "      <td>NaN</td>\n",
       "      <td>0.191119</td>\n",
       "      <td>NaN</td>\n",
       "      <td>0.859375</td>\n",
       "      <td>0.092179</td>\n",
       "      <td>NaN</td>\n",
       "      <td>0.158428</td>\n",
       "      <td>-1.347137</td>\n",
       "    </tr>\n",
       "    <tr>\n",
       "      <th>Albania</th>\n",
       "      <td>ALB</td>\n",
       "      <td>0.964432</td>\n",
       "      <td>0.067428</td>\n",
       "      <td>NaN</td>\n",
       "      <td>0.654122</td>\n",
       "      <td>NaN</td>\n",
       "      <td>0.948661</td>\n",
       "      <td>0.948324</td>\n",
       "      <td>0.599095</td>\n",
       "      <td>0.838559</td>\n",
       "      <td>0.454204</td>\n",
       "    </tr>\n",
       "    <tr>\n",
       "      <th>Andorra</th>\n",
       "      <td>AND</td>\n",
       "      <td>0.860862</td>\n",
       "      <td>NaN</td>\n",
       "      <td>NaN</td>\n",
       "      <td>0.860857</td>\n",
       "      <td>NaN</td>\n",
       "      <td>NaN</td>\n",
       "      <td>NaN</td>\n",
       "      <td>NaN</td>\n",
       "      <td>NaN</td>\n",
       "      <td>-0.139141</td>\n",
       "    </tr>\n",
       "  </tbody>\n",
       "</table>\n",
       "</div>"
      ],
      "text/plain": [
       "              id  CO2 emission/capita       GDP  unemployment secondary  \\\n",
       "country                                                                   \n",
       "Aruba        ABW             0.445101  0.261039                     NaN   \n",
       "Afghanistan  AFG             0.992076  0.008658                     NaN   \n",
       "Angola       AGO             0.968669  0.045269                     NaN   \n",
       "Albania      ALB             0.964432  0.067428                     NaN   \n",
       "Andorra      AND             0.860862       NaN                     NaN   \n",
       "\n",
       "             crude death rate/1000pers  unemployment tertiary  \\\n",
       "country                                                         \n",
       "Aruba                         0.570596                    NaN   \n",
       "Afghanistan                   0.563433                    NaN   \n",
       "Angola                        0.191119                    NaN   \n",
       "Albania                       0.654122                    NaN   \n",
       "Andorra                       0.860857                    NaN   \n",
       "\n",
       "             dye from injury  dye from disease  employed ratio (+15yo)  \\\n",
       "country                                                                  \n",
       "Aruba                    NaN               NaN                     NaN   \n",
       "Afghanistan         0.683036          0.377095                     NaN   \n",
       "Angola              0.859375          0.092179                     NaN   \n",
       "Albania             0.948661          0.948324                0.599095   \n",
       "Andorra                  NaN               NaN                     NaN   \n",
       "\n",
       "             Life expectancy  Preference Score  \n",
       "country                                         \n",
       "Aruba               0.783238          0.538571  \n",
       "Afghanistan         0.394298         -0.802888  \n",
       "Angola              0.158428         -1.347137  \n",
       "Albania             0.838559          0.454204  \n",
       "Andorra                  NaN         -0.139141  "
      ]
     },
     "execution_count": 9,
     "metadata": {},
     "output_type": "execute_result"
    }
   ],
   "source": [
    "# NORMALIZE DATA TO BRING DIFFERENT INDICATORS INTO THE SAME SCALE\n",
    "df = dfM\n",
    "for label in indicators.values():\n",
    "    df[label] = (df[label] - df[label].min())\n",
    "    df[label] = df[label]/df[label].max()\n",
    "df.head()"
   ]
  },
  {
   "cell_type": "code",
   "execution_count": 22,
   "metadata": {
    "collapsed": false
   },
   "outputs": [
    {
     "data": {
      "text/html": [
       "<div>\n",
       "<table border=\"1\" class=\"dataframe\">\n",
       "  <thead>\n",
       "    <tr style=\"text-align: right;\">\n",
       "      <th></th>\n",
       "      <th>id</th>\n",
       "      <th>Preference Score</th>\n",
       "      <th>CO2 emission/capita</th>\n",
       "      <th>GDP</th>\n",
       "      <th>unemployment secondary</th>\n",
       "      <th>crude death rate/1000pers</th>\n",
       "      <th>unemployment tertiary</th>\n",
       "      <th>dye from injury</th>\n",
       "      <th>dye from disease</th>\n",
       "      <th>employed ratio (+15yo)</th>\n",
       "      <th>Life expectancy</th>\n",
       "    </tr>\n",
       "    <tr>\n",
       "      <th>country</th>\n",
       "      <th></th>\n",
       "      <th></th>\n",
       "      <th></th>\n",
       "      <th></th>\n",
       "      <th></th>\n",
       "      <th></th>\n",
       "      <th></th>\n",
       "      <th></th>\n",
       "      <th></th>\n",
       "      <th></th>\n",
       "      <th></th>\n",
       "    </tr>\n",
       "  </thead>\n",
       "  <tbody>\n",
       "    <tr>\n",
       "      <th>Aruba</th>\n",
       "      <td>ABW</td>\n",
       "      <td>1.036346</td>\n",
       "      <td>-0.178040</td>\n",
       "      <td>0.234935</td>\n",
       "      <td>NaN</td>\n",
       "      <td>-0.342358</td>\n",
       "      <td>NaN</td>\n",
       "      <td>NaN</td>\n",
       "      <td>NaN</td>\n",
       "      <td>NaN</td>\n",
       "      <td>0.783238</td>\n",
       "    </tr>\n",
       "    <tr>\n",
       "      <th>Afghanistan</th>\n",
       "      <td>AFG</td>\n",
       "      <td>-2.195819</td>\n",
       "      <td>-0.396831</td>\n",
       "      <td>0.007792</td>\n",
       "      <td>NaN</td>\n",
       "      <td>-0.338060</td>\n",
       "      <td>NaN</td>\n",
       "      <td>-0.683036</td>\n",
       "      <td>-0.377095</td>\n",
       "      <td>NaN</td>\n",
       "      <td>0.394298</td>\n",
       "    </tr>\n",
       "    <tr>\n",
       "      <th>Angola</th>\n",
       "      <td>AGO</td>\n",
       "      <td>-2.601661</td>\n",
       "      <td>-0.387468</td>\n",
       "      <td>0.040742</td>\n",
       "      <td>NaN</td>\n",
       "      <td>-0.114672</td>\n",
       "      <td>NaN</td>\n",
       "      <td>-0.859375</td>\n",
       "      <td>-0.092179</td>\n",
       "      <td>NaN</td>\n",
       "      <td>0.158428</td>\n",
       "    </tr>\n",
       "    <tr>\n",
       "      <th>Albania</th>\n",
       "      <td>ALB</td>\n",
       "      <td>-1.501510</td>\n",
       "      <td>-0.385773</td>\n",
       "      <td>0.060685</td>\n",
       "      <td>NaN</td>\n",
       "      <td>-0.392473</td>\n",
       "      <td>NaN</td>\n",
       "      <td>-0.948661</td>\n",
       "      <td>-0.948324</td>\n",
       "      <td>-0.179729</td>\n",
       "      <td>0.838559</td>\n",
       "    </tr>\n",
       "    <tr>\n",
       "      <th>Andorra</th>\n",
       "      <td>AND</td>\n",
       "      <td>-1.000000</td>\n",
       "      <td>-0.344345</td>\n",
       "      <td>NaN</td>\n",
       "      <td>NaN</td>\n",
       "      <td>-0.516514</td>\n",
       "      <td>NaN</td>\n",
       "      <td>NaN</td>\n",
       "      <td>NaN</td>\n",
       "      <td>NaN</td>\n",
       "      <td>NaN</td>\n",
       "    </tr>\n",
       "  </tbody>\n",
       "</table>\n",
       "</div>"
      ],
      "text/plain": [
       "              id  Preference Score  CO2 emission/capita       GDP  \\\n",
       "country                                                             \n",
       "Aruba        ABW          1.036346            -0.178040  0.234935   \n",
       "Afghanistan  AFG         -2.195819            -0.396831  0.007792   \n",
       "Angola       AGO         -2.601661            -0.387468  0.040742   \n",
       "Albania      ALB         -1.501510            -0.385773  0.060685   \n",
       "Andorra      AND         -1.000000            -0.344345       NaN   \n",
       "\n",
       "             unemployment secondary  crude death rate/1000pers  \\\n",
       "country                                                          \n",
       "Aruba                           NaN                  -0.342358   \n",
       "Afghanistan                     NaN                  -0.338060   \n",
       "Angola                          NaN                  -0.114672   \n",
       "Albania                         NaN                  -0.392473   \n",
       "Andorra                         NaN                  -0.516514   \n",
       "\n",
       "             unemployment tertiary  dye from injury  dye from disease  \\\n",
       "country                                                                 \n",
       "Aruba                          NaN              NaN               NaN   \n",
       "Afghanistan                    NaN        -0.683036         -0.377095   \n",
       "Angola                         NaN        -0.859375         -0.092179   \n",
       "Albania                        NaN        -0.948661         -0.948324   \n",
       "Andorra                        NaN              NaN               NaN   \n",
       "\n",
       "             employed ratio (+15yo)  Life expectancy  \n",
       "country                                               \n",
       "Aruba                           NaN         0.783238  \n",
       "Afghanistan                     NaN         0.394298  \n",
       "Angola                          NaN         0.158428  \n",
       "Albania                   -0.179729         0.838559  \n",
       "Andorra                         NaN              NaN  "
      ]
     },
     "execution_count": 22,
     "metadata": {},
     "output_type": "execute_result"
    }
   ],
   "source": [
    "#APPLY SUBJECTIVE PREFERENCE SCORE FOR EACH INDICATOR AND REARRANGE COLUMNS FOR BETTER VISIBILITY\n",
    "for label, score in subjPreference.items():    \n",
    "    df[label] = df[label]*score    \n",
    "\n",
    "df['Preference Score']= df.sum(axis = 1)\n",
    "cols = df.columns.tolist()\n",
    "cols.insert(1, cols.pop(cols.index('Preference Score')))\n",
    "df = df.reindex(columns= cols)\n",
    "df.head()"
   ]
  },
  {
   "cell_type": "code",
   "execution_count": 23,
   "metadata": {
    "collapsed": false
   },
   "outputs": [
    {
     "data": {
      "text/plain": [
       "country\n",
       "Afghanistan            -0.365970\n",
       "Angola                 -0.433610\n",
       "Albania                -0.214501\n",
       "United Arab Emirates   -0.091347\n",
       "Argentina              -0.386571\n",
       "Name: Preference Score, dtype: float64"
      ]
     },
     "execution_count": 23,
     "metadata": {},
     "output_type": "execute_result"
    }
   ],
   "source": [
    "#DISCARD COUNTRIES WITH MULTIPLE MISSING DATA (allow max 3 missing indicators)\n",
    "totalCols = len(df.columns)\n",
    "minRequiredIndicator = totalCols - 4\n",
    "ii = df.count(axis=1) > minRequiredIndicator\n",
    "dff = df.loc[ii, :]\n",
    "dff.head()\n",
    "\n",
    "# calculate average:\n",
    "N = dff.count(axis=1)-2\n",
    "dff.loc[:,'Preference Score'] /= N\n",
    "    \n",
    "dff['Preference Score'].head()"
   ]
  },
  {
   "cell_type": "code",
   "execution_count": 24,
   "metadata": {
    "collapsed": false
   },
   "outputs": [
    {
     "data": {
      "text/plain": [
       "<matplotlib.axes._subplots.AxesSubplot at 0x165f8198>"
      ]
     },
     "execution_count": 24,
     "metadata": {},
     "output_type": "execute_result"
    },
    {
     "data": {
      "image/png": "[encoded data removed]",
      "text/plain": [
       "<matplotlib.figure.Figure at 0x15da0208>"
      ]
     },
     "metadata": {},
     "output_type": "display_data"
    }
   ],
   "source": [
    "#PLOT RESULTS\n",
    "dataToPlot = pd.DataFrame(list(dff['Preference Score']), index = dff.index, columns = ['Score'])\n",
    "dataToPlot = dataToPlot.sort_values('Score', ascending=False)\n",
    "\n",
    "dataToPlot.iloc[:30].plot(kind='bar')\n"
   ]
  },
  {
   "cell_type": "code",
   "execution_count": 25,
   "metadata": {
    "collapsed": false
   },
   "outputs": [],
   "source": [
    "#PLOT IN BROWSER\n",
    "\n",
    "import plotly.graph_objs as go\n",
    "import plotly.plotly as py\n",
    "\n",
    "firstX = 30\n",
    "dataToPlot = dataToPlot.iloc[:firstX][:firstX]\n",
    "\n",
    "data = [\n",
    "    go.Bar(\n",
    "        x = list(dataToPlot['Score']),\n",
    "        y = list(dataToPlot.index),\n",
    "        orientation = 'h',\n",
    "    )\n",
    "]\n",
    "plot_url = py.plot(data, filename='country-recommender-horizontal-bar')"
   ]
  },
  {
   "cell_type": "code",
   "execution_count": 28,
   "metadata": {
    "collapsed": true
   },
   "outputs": [],
   "source": [
    "#Highest scoring countries on the Human Development Index, as of 2014 (Source Wikipedia):\n",
    "HDIWinners = ['Norway', 'Australia', 'Switzerland', 'Netherlands', \n",
    "              'United States', 'Germany', 'New Zealand', 'Canada', \n",
    "              'Singapore', 'Denmark','Ireland', 'Sweden', 'Iceland', \n",
    "              'United Kingdom', 'Hong Kong', 'South Korea', 'Japan', \n",
    "              'Lichtenstein', 'Israel', 'France', 'Austria', 'Belgium',\n",
    "              'Luxembourg', 'Finland', 'Slovenia', 'Italy', 'Spain', \n",
    "              'Czech Republic', 'Greece', 'Brunei Darussalam']\n",
    "\n"
   ]
  },
  {
   "cell_type": "code",
   "execution_count": 37,
   "metadata": {
    "collapsed": false
   },
   "outputs": [
    {
     "name": "stdout",
     "output_type": "stream",
     "text": [
      "73 percent of the recommended countries were also within the best thirty by the Human Development index\n"
     ]
    }
   ],
   "source": [
    "intersect = [val for val in HDIWinners if val in list(dataToPlot.index)]\n",
    "percentMatch = 100*len(intersect)/30\n",
    "print '%i percent of the recommended countries were also within the best thirty by the Human Development index' % (percentMatch)\n"
   ]
  },
  {
   "cell_type": "code",
   "execution_count": null,
   "metadata": {
    "collapsed": true
   },
   "outputs": [],
   "source": []
  }
 ],
 "metadata": {
  "kernelspec": {
   "display_name": "Python 2",
   "language": "python",
   "name": "python2"
  },
  "language_info": {
   "codemirror_mode": {
    "name": "ipython",
    "version": 2
   },
   "file_extension": ".py",
   "mimetype": "text/x-python",
   "name": "python",
   "nbconvert_exporter": "python",
   "pygments_lexer": "ipython2",
   "version": "2.7.10"
  }
 },
 "nbformat": 4,
 "nbformat_minor": 0
}
