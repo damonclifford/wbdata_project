{
 "cells": [
  {
   "cell_type": "markdown",
   "metadata": {},
   "source": [
    "#PART 1: Plotting World Bank data on a world map using Python\n",
    "\n",
    "## Import the necessary libraries\n",
    "\n",
    "If you haven't used the python libraries listed below, you will need to import them by typing in Anaconda's or Python's command line: 'pip install wbdata', 'pip install pandas', etc.\n",
    "\n",
    "Documentation of the world bank data api: http://wbdata.readthedocs.org/en/latest/index.html#\n",
    "\n",
    "To set up the absolutely awesome plotly library for interactive web plots, start here: https://plot.ly/python/\n"
   ]
  },
  {
   "cell_type": "code",
   "execution_count": 105,
   "metadata": {
    "collapsed": true
   },
   "outputs": [],
   "source": [
    "%matplotlib inline\n",
    "\n",
    "import wbdata\n",
    "import pandas as pd\n",
    "import numpy as np\n",
    "import datetime\n",
    "import plotly.plotly as py\n"
   ]
  },
  {
   "cell_type": "markdown",
   "metadata": {},
   "source": [
    "## Explore the database"
   ]
  },
  {
   "cell_type": "code",
   "execution_count": 106,
   "metadata": {
    "collapsed": false
   },
   "outputs": [
    {
     "name": "stdout",
     "output_type": "stream",
     "text": [
      "11\tAfrica Development Indicators\n",
      "36\tStatistical Capacity Indicators\n",
      "31\tCountry Policy and Institutional Assessment (CPIA) \n",
      "41\tCountry Partnership Strategy for India \n",
      "26\tCorporate Scorecard\n",
      "1 \tDoing Business\n",
      "30\tExporter Dynamics Database: Country-Year\n",
      "12\tEducation Statistics\n",
      "13\tEnterprise Surveys\n",
      "28\tGlobal Findex ( Global Financial Inclusion database)\n",
      "33\tG20 Basic Set of Financial Inclusion Indicators\n",
      "14\tGender Statistics\n",
      "15\tGlobal Economic Monitor\n",
      "27\tGEP Economic Prospects\n",
      "32\tGlobal Financial Development\n",
      "21\tGlobal Economic Monitor (GEM) Commodities\n",
      "34\tGlobal Partnership for Education\n",
      "29\tGlobal Social Protection\n",
      "16\tHealth Nutrition and Population Statistics\n",
      "39\tHealth Nutrition and Population Statistics by Wealth Quintile\n",
      "40\tHealth Nutrition and Population Statistics: Population estimates and projections\n",
      "18\tInternational Development Association - Results Measurement System\n",
      "45\tINDO-DAPOER\n",
      "6 \tInternational Debt Statistics\n",
      "25\tJobs for Knowledge Platform\n",
      "37\tLAC Equity Lab\n",
      "19\tMillennium Development Goals\n",
      "24\tPovstats\n",
      "20\tQuarterly Public Sector Debt\n",
      "23\tQuarterly External Debt Statistics/GDDS (New)\n",
      "22\tQuarterly External Debt Statistics/SDDS (New)\n",
      "44\tReadiness for Investment in Sustainable Energy (RISE)\n",
      "35\tSustainable Energy for All\n",
      "5 \tSubnational Malnutrition Database\n",
      "38\tSubnational Poverty\n",
      "50\tSubnational Population\n",
      "43\tWealth accounting\n",
      "2 \tWorld Development Indicators\n",
      "3 \tWorldwide Governance Indicators\n"
     ]
    }
   ],
   "source": [
    "#explore database topics:\n",
    "wbdata.get_source()"
   ]
  },
  {
   "cell_type": "code",
   "execution_count": 120,
   "metadata": {
    "collapsed": false
   },
   "outputs": [
    {
     "name": "stdout",
     "output_type": "stream",
     "text": [
      "SN.SH.STA.MALN.ZS\tSub-National Malnutrition prevalence, weight for age (% of children under 5)\n",
      "SN.SH.STA.OWGH.ZS\tSub-National Prevalence of overweight (% of children under 5)\n",
      "SN.SH.STA.STNT.ZS\tSub-National Malnutrition prevalence, height for age (% of children under 5)\n",
      "SN.SH.STA.WAST.ZS\tSub-National Prevalence of wasting (% of children under 5)\n",
      "SN.SH.SVR.WAST.ZS\tSub-National Prevalence of severe wasting, weight for height (% of children under 5)\n"
     ]
    }
   ],
   "source": [
    "# List indicators in a selected topic:\n",
    "wbdata.get_indicator(source=5)"
   ]
  },
  {
   "cell_type": "code",
   "execution_count": 108,
   "metadata": {
    "collapsed": false
   },
   "outputs": [
    {
     "name": "stdout",
     "output_type": "stream",
     "text": [
      "SP.DYN.LE00.FE.IN\tLife expectancy at birth, female (years)\n",
      "SP.DYN.LE00.IN   \tLife expectancy at birth, total (years)\n",
      "SP.DYN.LE00.MA.IN\tLife expectancy at birth, male (years)\n"
     ]
    }
   ],
   "source": [
    "# WHICH INDICATOR?\n",
    "#Search for a given indicator:\n",
    "wbdata.search_indicators(\"life expectancy at birth\")"
   ]
  },
  {
   "cell_type": "code",
   "execution_count": 109,
   "metadata": {
    "collapsed": true
   },
   "outputs": [],
   "source": [
    "# INPUT PARAMETERS\n",
    "indicatorCode  = 'SP.DYN.LE00.IN'\n",
    "indicatorLabel = 'Life expectancy'\n",
    "unit           = 'Years'\n",
    "yearLow        = 2010\n",
    "yearHigh       = 2010"
   ]
  },
  {
   "cell_type": "code",
   "execution_count": 110,
   "metadata": {
    "collapsed": false,
    "scrolled": true
   },
   "outputs": [
    {
     "data": {
      "text/html": [
       "<div>\n",
       "<table border=\"1\" class=\"dataframe\">\n",
       "  <thead>\n",
       "    <tr style=\"text-align: right;\">\n",
       "      <th></th>\n",
       "      <th>adminregion</th>\n",
       "      <th>capitalCity</th>\n",
       "      <th>id</th>\n",
       "      <th>incomeLevel</th>\n",
       "      <th>iso2Code</th>\n",
       "      <th>latitude</th>\n",
       "      <th>lendingType</th>\n",
       "      <th>longitude</th>\n",
       "      <th>name</th>\n",
       "      <th>region</th>\n",
       "    </tr>\n",
       "  </thead>\n",
       "  <tbody>\n",
       "    <tr>\n",
       "      <th>0</th>\n",
       "      <td>{u'id': u'', u'value': u''}</td>\n",
       "      <td>Oranjestad</td>\n",
       "      <td>ABW</td>\n",
       "      <td>{u'id': u'NOC', u'value': u'High income: nonOE...</td>\n",
       "      <td>AW</td>\n",
       "      <td>12.5167</td>\n",
       "      <td>{u'id': u'LNX', u'value': u'Not classified'}</td>\n",
       "      <td>-70.0167</td>\n",
       "      <td>Aruba</td>\n",
       "      <td>{u'id': u'LCN', u'value': u'Latin America &amp; Ca...</td>\n",
       "    </tr>\n",
       "    <tr>\n",
       "      <th>1</th>\n",
       "      <td>{u'id': u'SAS', u'value': u'South Asia'}</td>\n",
       "      <td>Kabul</td>\n",
       "      <td>AFG</td>\n",
       "      <td>{u'id': u'LIC', u'value': u'Low income'}</td>\n",
       "      <td>AF</td>\n",
       "      <td>34.5228</td>\n",
       "      <td>{u'id': u'IDX', u'value': u'IDA'}</td>\n",
       "      <td>69.1761</td>\n",
       "      <td>Afghanistan</td>\n",
       "      <td>{u'id': u'SAS', u'value': u'South Asia'}</td>\n",
       "    </tr>\n",
       "    <tr>\n",
       "      <th>2</th>\n",
       "      <td>{u'id': u'', u'value': u''}</td>\n",
       "      <td></td>\n",
       "      <td>AFR</td>\n",
       "      <td>{u'id': u'NA', u'value': u'Aggregates'}</td>\n",
       "      <td>A9</td>\n",
       "      <td></td>\n",
       "      <td>{u'id': u'', u'value': u'Aggregates'}</td>\n",
       "      <td></td>\n",
       "      <td>Africa</td>\n",
       "      <td>{u'id': u'NA', u'value': u'Aggregates'}</td>\n",
       "    </tr>\n",
       "    <tr>\n",
       "      <th>3</th>\n",
       "      <td>{u'id': u'SSA', u'value': u'Sub-Saharan Africa...</td>\n",
       "      <td>Luanda</td>\n",
       "      <td>AGO</td>\n",
       "      <td>{u'id': u'UMC', u'value': u'Upper middle income'}</td>\n",
       "      <td>AO</td>\n",
       "      <td>-8.81155</td>\n",
       "      <td>{u'id': u'IBD', u'value': u'IBRD'}</td>\n",
       "      <td>13.242</td>\n",
       "      <td>Angola</td>\n",
       "      <td>{u'id': u'SSF', u'value': u'Sub-Saharan Africa...</td>\n",
       "    </tr>\n",
       "    <tr>\n",
       "      <th>4</th>\n",
       "      <td>{u'id': u'ECA', u'value': u'Europe &amp; Central A...</td>\n",
       "      <td>Tirane</td>\n",
       "      <td>ALB</td>\n",
       "      <td>{u'id': u'UMC', u'value': u'Upper middle income'}</td>\n",
       "      <td>AL</td>\n",
       "      <td>41.3317</td>\n",
       "      <td>{u'id': u'IBD', u'value': u'IBRD'}</td>\n",
       "      <td>19.8172</td>\n",
       "      <td>Albania</td>\n",
       "      <td>{u'id': u'ECS', u'value': u'Europe &amp; Central A...</td>\n",
       "    </tr>\n",
       "  </tbody>\n",
       "</table>\n",
       "</div>"
      ],
      "text/plain": [
       "                                         adminregion capitalCity   id  \\\n",
       "0                        {u'id': u'', u'value': u''}  Oranjestad  ABW   \n",
       "1           {u'id': u'SAS', u'value': u'South Asia'}       Kabul  AFG   \n",
       "2                        {u'id': u'', u'value': u''}              AFR   \n",
       "3  {u'id': u'SSA', u'value': u'Sub-Saharan Africa...      Luanda  AGO   \n",
       "4  {u'id': u'ECA', u'value': u'Europe & Central A...      Tirane  ALB   \n",
       "\n",
       "                                         incomeLevel iso2Code  latitude  \\\n",
       "0  {u'id': u'NOC', u'value': u'High income: nonOE...       AW   12.5167   \n",
       "1           {u'id': u'LIC', u'value': u'Low income'}       AF   34.5228   \n",
       "2            {u'id': u'NA', u'value': u'Aggregates'}       A9             \n",
       "3  {u'id': u'UMC', u'value': u'Upper middle income'}       AO  -8.81155   \n",
       "4  {u'id': u'UMC', u'value': u'Upper middle income'}       AL   41.3317   \n",
       "\n",
       "                                    lendingType longitude         name  \\\n",
       "0  {u'id': u'LNX', u'value': u'Not classified'}  -70.0167        Aruba   \n",
       "1             {u'id': u'IDX', u'value': u'IDA'}   69.1761  Afghanistan   \n",
       "2         {u'id': u'', u'value': u'Aggregates'}                 Africa   \n",
       "3            {u'id': u'IBD', u'value': u'IBRD'}    13.242       Angola   \n",
       "4            {u'id': u'IBD', u'value': u'IBRD'}   19.8172      Albania   \n",
       "\n",
       "                                              region  \n",
       "0  {u'id': u'LCN', u'value': u'Latin America & Ca...  \n",
       "1           {u'id': u'SAS', u'value': u'South Asia'}  \n",
       "2            {u'id': u'NA', u'value': u'Aggregates'}  \n",
       "3  {u'id': u'SSF', u'value': u'Sub-Saharan Africa...  \n",
       "4  {u'id': u'ECS', u'value': u'Europe & Central A...  "
      ]
     },
     "execution_count": 110,
     "metadata": {},
     "output_type": "execute_result"
    }
   ],
   "source": [
    "# WHICH COUNTRY CODE?\n",
    "#obtain country codes and regional metadata:\n",
    "countryInfo = wbdata.get_country(country_id=None, display=False)\n",
    "dfInfo = pd.DataFrame(countryInfo)\n",
    "dfInfo.iloc[:5]"
   ]
  },
  {
   "cell_type": "code",
   "execution_count": 122,
   "metadata": {
    "collapsed": false,
    "scrolled": true
   },
   "outputs": [
    {
     "data": {
      "text/html": [
       "<div>\n",
       "<table border=\"1\" class=\"dataframe\">\n",
       "  <thead>\n",
       "    <tr style=\"text-align: right;\">\n",
       "      <th></th>\n",
       "      <th>id</th>\n",
       "    </tr>\n",
       "  </thead>\n",
       "  <tbody>\n",
       "    <tr>\n",
       "      <th>Aruba</th>\n",
       "      <td>ABW</td>\n",
       "    </tr>\n",
       "    <tr>\n",
       "      <th>Afghanistan</th>\n",
       "      <td>AFG</td>\n",
       "    </tr>\n",
       "    <tr>\n",
       "      <th>Angola</th>\n",
       "      <td>AGO</td>\n",
       "    </tr>\n",
       "    <tr>\n",
       "      <th>Albania</th>\n",
       "      <td>ALB</td>\n",
       "    </tr>\n",
       "    <tr>\n",
       "      <th>Andorra</th>\n",
       "      <td>AND</td>\n",
       "    </tr>\n",
       "  </tbody>\n",
       "</table>\n",
       "</div>"
      ],
      "text/plain": [
       "              id\n",
       "Aruba        ABW\n",
       "Afghanistan  AFG\n",
       "Angola       AGO\n",
       "Albania      ALB\n",
       "Andorra      AND"
      ]
     },
     "execution_count": 122,
     "metadata": {},
     "output_type": "execute_result"
    }
   ],
   "source": [
    "#obtain dataframe of country codes that are real countries and not aggregates:\n",
    "ccodes = [];\n",
    "cnames = [];\n",
    "for i in range(len(dfInfo)):\n",
    "    if str(dfInfo['region'][i]['value'])  != 'Aggregates':\n",
    "        cix.append(i)\n",
    "        ccodes.append(dfInfo['id'][i])\n",
    "        cnames.append(dfInfo['name'][i])\n",
    "dfCC = pd.DataFrame(ccodes, index=cnames, columns=['id'])\n",
    "dfCC.iloc[:5]"
   ]
  },
  {
   "cell_type": "markdown",
   "metadata": {},
   "source": [
    "## Obtain data from World Bank"
   ]
  },
  {
   "cell_type": "code",
   "execution_count": 112,
   "metadata": {
    "collapsed": false,
    "scrolled": true
   },
   "outputs": [
    {
     "data": {
      "text/html": [
       "<div>\n",
       "<table border=\"1\" class=\"dataframe\">\n",
       "  <thead>\n",
       "    <tr style=\"text-align: right;\">\n",
       "      <th></th>\n",
       "      <th>COUNTRY</th>\n",
       "      <th>Life expectancy</th>\n",
       "    </tr>\n",
       "    <tr>\n",
       "      <th>COUNTRY</th>\n",
       "      <th></th>\n",
       "      <th></th>\n",
       "    </tr>\n",
       "  </thead>\n",
       "  <tbody>\n",
       "    <tr>\n",
       "      <th>Aruba</th>\n",
       "      <td>Aruba</td>\n",
       "      <td>74.952024</td>\n",
       "    </tr>\n",
       "    <tr>\n",
       "      <th>Andorra</th>\n",
       "      <td>Andorra</td>\n",
       "      <td>NaN</td>\n",
       "    </tr>\n",
       "    <tr>\n",
       "      <th>Afghanistan</th>\n",
       "      <td>Afghanistan</td>\n",
       "      <td>59.600098</td>\n",
       "    </tr>\n",
       "    <tr>\n",
       "      <th>Angola</th>\n",
       "      <td>Angola</td>\n",
       "      <td>50.654171</td>\n",
       "    </tr>\n",
       "    <tr>\n",
       "      <th>Albania</th>\n",
       "      <td>Albania</td>\n",
       "      <td>76.978512</td>\n",
       "    </tr>\n",
       "  </tbody>\n",
       "</table>\n",
       "</div>"
      ],
      "text/plain": [
       "                 COUNTRY  Life expectancy\n",
       "COUNTRY                                  \n",
       "Aruba              Aruba        74.952024\n",
       "Andorra          Andorra              NaN\n",
       "Afghanistan  Afghanistan        59.600098\n",
       "Angola            Angola        50.654171\n",
       "Albania          Albania        76.978512"
      ]
     },
     "execution_count": 112,
     "metadata": {},
     "output_type": "execute_result"
    }
   ],
   "source": [
    "# GIVEN THE LIST OF COUNTRY CODES, YEAR(S) AND INDICATOR(S), OBTAIN DATA FROM DATABASE:\n",
    "\n",
    "indicators = {indicatorCode:indicatorLabel} \n",
    "data_date = (datetime.datetime(yearLow, 1, 1), datetime.datetime(yearHigh, 12, 1)) \n",
    "\n",
    "df = wbdata.get_dataframe(indicators, country = ccodes, data_date=data_date, convert_date=False, keep_levels=False) \n",
    "d = {indicatorLabel : list(df[indicatorLabel]),'COUNTRY' : list(df.index)}\n",
    "dff = pd.DataFrame(d)\n",
    "dff.index = dff['COUNTRY']\n",
    "dff.iloc[:5]"
   ]
  },
  {
   "cell_type": "code",
   "execution_count": 113,
   "metadata": {
    "collapsed": false,
    "scrolled": true
   },
   "outputs": [
    {
     "data": {
      "text/html": [
       "<div>\n",
       "<table border=\"1\" class=\"dataframe\">\n",
       "  <thead>\n",
       "    <tr style=\"text-align: right;\">\n",
       "      <th></th>\n",
       "      <th>COUNTRY</th>\n",
       "      <th>Life expectancy</th>\n",
       "      <th>CODE</th>\n",
       "    </tr>\n",
       "  </thead>\n",
       "  <tbody>\n",
       "    <tr>\n",
       "      <th>Afghanistan</th>\n",
       "      <td>Afghanistan</td>\n",
       "      <td>59.600098</td>\n",
       "      <td>AFG</td>\n",
       "    </tr>\n",
       "    <tr>\n",
       "      <th>Albania</th>\n",
       "      <td>Albania</td>\n",
       "      <td>76.978512</td>\n",
       "      <td>ALB</td>\n",
       "    </tr>\n",
       "    <tr>\n",
       "      <th>Algeria</th>\n",
       "      <td>Algeria</td>\n",
       "      <td>70.616610</td>\n",
       "      <td>DZA</td>\n",
       "    </tr>\n",
       "    <tr>\n",
       "      <th>Angola</th>\n",
       "      <td>Angola</td>\n",
       "      <td>50.654171</td>\n",
       "      <td>AGO</td>\n",
       "    </tr>\n",
       "    <tr>\n",
       "      <th>Antigua and Barbuda</th>\n",
       "      <td>Antigua and Barbuda</td>\n",
       "      <td>75.333902</td>\n",
       "      <td>ATG</td>\n",
       "    </tr>\n",
       "  </tbody>\n",
       "</table>\n",
       "</div>"
      ],
      "text/plain": [
       "                                 COUNTRY  Life expectancy CODE\n",
       "Afghanistan                  Afghanistan        59.600098  AFG\n",
       "Albania                          Albania        76.978512  ALB\n",
       "Algeria                          Algeria        70.616610  DZA\n",
       "Angola                            Angola        50.654171  AGO\n",
       "Antigua and Barbuda  Antigua and Barbuda        75.333902  ATG"
      ]
     },
     "execution_count": 113,
     "metadata": {},
     "output_type": "execute_result"
    }
   ],
   "source": [
    "# ADD COUNTRY CODE TO DATAFRAME\n",
    "result = pd.concat([dff, dfCC['id']], axis=1, ignore_index=True)\n",
    "result.columns = ['COUNTRY', indicatorLabel,'CODE']\n",
    "result = result.dropna()\n",
    "result.iloc[:5]"
   ]
  },
  {
   "cell_type": "markdown",
   "metadata": {},
   "source": [
    "## Plot data on a world map"
   ]
  },
  {
   "cell_type": "code",
   "execution_count": 115,
   "metadata": {
    "collapsed": false
   },
   "outputs": [
    {
     "data": {
      "text/html": [
       "<iframe id=\"igraph\" scrolling=\"no\" style=\"border:none;\"seamless=\"seamless\" src=\"https://plot.ly/~jperge/5.embed\" height=\"525px\" width=\"100%\"></iframe>"
      ],
      "text/plain": [
       "<plotly.tools.PlotlyDisplay object>"
      ]
     },
     "execution_count": 115,
     "metadata": {},
     "output_type": "execute_result"
    }
   ],
   "source": [
    "# GENERATE CHOROPLETH MAP\n",
    "\n",
    "data = [ dict(\n",
    "        type = 'choropleth',\n",
    "        locations = df2['CODE'],\n",
    "        z = df2[indicatorLabel],\n",
    "        text = df2['COUNTRY'],\n",
    "        colorscale = [[0,\"rgb(5, 10, 172)\"],[0.35,\"rgb(40, 60, 190)\"],[0.5,\"rgb(70, 100, 245)\"],\\\n",
    "            [0.6,\"rgb(90, 120, 245)\"],[0.7,\"rgb(106, 137, 247)\"],[1,\"rgb(220, 220, 220)\"]],\n",
    "        autocolorscale = False,\n",
    "        reversescale = True,\n",
    "        marker = dict(\n",
    "            line = dict (\n",
    "                color = 'rgb(180,180,180)',\n",
    "                width = 0.5\n",
    "            )\n",
    "        ),\n",
    "        colorbar = dict(\n",
    "            autotick = False,\n",
    "            tickprefix = ' ',\n",
    "            title = unit\n",
    "        ),\n",
    "    ) ]\n",
    "\n",
    "layout = dict(\n",
    "    title = indicatorLabel + ' of babies born in ' + str(yearLow) +  '<br>Data source: \\\n",
    "<a href=\"http://www.worldbank.org/\">\\\n",
    "World Bank</a>',\n",
    "    geo = dict(\n",
    "        showframe = False,\n",
    "        showcoastlines = False,\n",
    "        projection = dict(\n",
    "            type = 'Mercator'\n",
    "        )\n",
    "    )\n",
    ")\n",
    "\n",
    "fig = dict( data=data, layout=layout )\n",
    "py.iplot( fig, validate=False, filename='d3-world-map' )"
   ]
  },
  {
   "cell_type": "markdown",
   "metadata": {},
   "source": [
    "Using this modified command below, the plot will appear in a new window with a functional link you could use in your web page. So cool:"
   ]
  },
  {
   "cell_type": "code",
   "execution_count": null,
   "metadata": {
    "collapsed": true
   },
   "outputs": [],
   "source": [
    "py.plot( fig, validate=False, filename='d3-world-map' )"
   ]
  }
 ],
 "metadata": {
  "kernelspec": {
   "display_name": "Python 2",
   "language": "python",
   "name": "python2"
  },
  "language_info": {
   "codemirror_mode": {
    "name": "ipython",
    "version": 2
   },
   "file_extension": ".py",
   "mimetype": "text/x-python",
   "name": "python",
   "nbconvert_exporter": "python",
   "pygments_lexer": "ipython2",
   "version": "2.7.10"
  }
 },
 "nbformat": 4,
 "nbformat_minor": 0
}
